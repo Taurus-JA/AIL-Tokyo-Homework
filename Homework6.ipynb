{
 "cells": [
  {
   "cell_type": "markdown",
   "metadata": {},
   "source": [
    "# 第6回講義 宿題"
   ]
  },
  {
   "cell_type": "markdown",
   "metadata": {
    "collapsed": true
   },
   "source": [
    "## 課題. Stacked Denoising Autoencoderで事前学習をした上で, MNISTを多層パーセプトロンで学習せよ"
   ]
  },
  {
   "cell_type": "markdown",
   "metadata": {},
   "source": [
    "### 注意"
   ]
  },
  {
   "cell_type": "markdown",
   "metadata": {},
   "source": [
    "- homework関数を完成させて提出してください\n",
    "    - 訓練データはtrain_X, train_y, テストデータはtest_Xで与えられます\n",
    "    - train_Xとtrain_yをtrain_X, train_yとvalid_X, valid_yに分けるなどしてモデルを学習させてください\n",
    "    - test_Xに対して予想ラベルpred_yを作り, homework関数の戻り値としてください\\\n",
    "- pred_yのtest_yに対する精度(F値)で評価します\n",
    "- 全体の実行時間がiLect上で60分を超えないようにしてください\n",
    "- homework関数の外には何も書かないでください"
   ]
  },
  {
   "cell_type": "markdown",
   "metadata": {},
   "source": [
    "- CNNは使わないでください"
   ]
  },
  {
   "cell_type": "markdown",
   "metadata": {},
   "source": [
    "次のような内容のコードが**事前**に実行されます"
   ]
  },
  {
   "cell_type": "markdown",
   "metadata": {},
   "source": [
    "```python\n",
    "from collections import OrderedDict\n",
    "from sklearn.utils import shuffle\n",
    "from sklearn.metrics import f1_score\n",
    "from sklearn.datasets import fetch_mldata\n",
    "from sklearn.cross_validation import train_test_split\n",
    "\n",
    "import numpy as np\n",
    "import theano\n",
    "import theano.tensor as T\n",
    "\n",
    "\n",
    "mnist = fetch_mldata('MNIST original')\n",
    "mnist_X, mnist_y = shuffle(mnist.data.astype('float32'),\n",
    "                           mnist.target.astype('int32'),\n",
    "                           random_state=42)\n",
    "\n",
    "mnist_X = mnist_X / 255.0\n",
    "\n",
    "train_X, test_X, train_y, test_y = train_test_split(mnist_X, mnist_y,\n",
    "                                                    test_size=0.2,\n",
    "                                                    random_state=??)\n",
    "```"
   ]
  },
  {
   "cell_type": "markdown",
   "metadata": {},
   "source": [
    "次のセルを完成させて提出してください\n",
    "- **上記のコード以外で必要なもの**は全て書いてください"
   ]
  },
  {
   "cell_type": "code",
   "execution_count": null,
   "metadata": {
    "collapsed": false,
    "deletable": false,
    "ilect": {
     "is_homework": true
    }
   },
   "outputs": [],
   "source": [
    "def homework(train_X, train_y, test_X):\n",
    "\n",
    "    train_y = np.eye(10)[train_y].astype('int32')\n",
    "    train_X, valid_X, train_y, valid_y = train_test_split(train_X,\n",
    "                                                          train_y, test_size=0.2, random_state=None)\n",
    "\n",
    "\n",
    "    class Autoencoder:\n",
    "    # Constructor\n",
    "        def __init__(self, visible_dim, hidden_dim, W, function):\n",
    "            self.visible_dim = visible_dim\n",
    "            self.hidden_dim = hidden_dim\n",
    "            self.function = function\n",
    "            self.W = W\n",
    "            self.a = theano.shared(np.zeros(visible_dim).astype('float32'),\n",
    "                                   name='a')\n",
    "            self.b = theano.shared(np.zeros(hidden_dim).astype('float32'),\n",
    "                                   name='b')\n",
    "            self.params = [self.W, self.a, self.b]\n",
    "\n",
    "    # Encoder\n",
    "        def encode(self, x):\n",
    "            u = T.dot(x, self.W) + self.b\n",
    "            y = self.function(u)\n",
    "            return y\n",
    "\n",
    "    # Decoder\n",
    "        def decode(self, x):\n",
    "            u = T.dot(x, self.W.T) + self.a\n",
    "            y = self.function(u)\n",
    "            return y\n",
    "\n",
    "    # Forward Propagation\n",
    "        def f_prop(self, x):\n",
    "            y = self.encode(x)\n",
    "            reconst_x = self.decode(y)\n",
    "            return reconst_x\n",
    "\n",
    "    # Reconstruction Error\n",
    "        def reconst_error(self, x, noise):\n",
    "            tilde_x = x*noise\n",
    "            reconst_x = self.f_prop(tilde_x)\n",
    "            error = T.mean(T.sum(T.nnet.binary_crossentropy(reconst_x, x), axis=1))\n",
    "            return error, reconst_x\n",
    "    \n",
    "    def sgd(params, g_params, eps=np.float32(0.1)):\n",
    "        updates = OrderedDict()\n",
    "        momentum = g_param\n",
    "        for param, g_param in zip(params, g_params):\n",
    "            updates[param] = param - (1-myu)*eps*g_param\n",
    "        return updates\n",
    "\n",
    "# Define the Layer class \n",
    "\n",
    "    class Layer:\n",
    "    # Constructor\n",
    "        def __init__(self, in_dim, out_dim, function, possibility):\n",
    "            self.in_dim = in_dim\n",
    "            self.out_dim = out_dim\n",
    "            self.function = function\n",
    "            self.W = theano.shared(np.random.uniform(low=-0.08, high=0.08,\n",
    "                                               size=(in_dim, out_dim)\n",
    "                                               ).astype('float32'),\n",
    "                                   name='W')\n",
    "            self.b = theano.shared(np.zeros(out_dim).astype('float32'), name='b')\n",
    "            self.params = [self.W, self.b]\n",
    "            self.possibility = possibility\n",
    "            self.set_pretraining()\n",
    "\n",
    "    # Forward Propagation\n",
    "        def f_prop(self, x):\n",
    "            self.u = T.dot(x, self.W) + self.b\n",
    "            self.z = self.function(self.u)\n",
    "            return self.z\n",
    "    \n",
    "        def get_mask(self):\n",
    "            a = np.random.rand(self.out_dim) < self.possibility\n",
    "            return a*np.float32(1.0)\n",
    "\n",
    "    # Set Pretraining\n",
    "        def set_pretraining(self):\n",
    "            ae = Autoencoder(self.in_dim, self.out_dim, self.W, self.function)\n",
    "\n",
    "            x = T.fmatrix(name='x')\n",
    "            noise = T.fmatrix(name='noise')\n",
    "\n",
    "            cost, reconst_x = ae.reconst_error(x, noise)\n",
    "            params = ae.params\n",
    "            g_params = T.grad(cost=cost, wrt=params)\n",
    "            updates = sgd(params, g_params)\n",
    "\n",
    "            self.pretraining = theano.function(inputs=[x, noise],\n",
    "                                                outputs=[cost, reconst_x],\n",
    "                                                updates=updates,\n",
    "                                                allow_input_downcast=True,\n",
    "                                                name='pretraining')\n",
    "\n",
    "            hidden = ae.encode(x)\n",
    "            self.encode_function = theano.function(inputs=[x], outputs=hidden,\n",
    "                                                   allow_input_downcast=True,\n",
    "                                                   name='encode_function')\n",
    "            \n",
    "    layers = [\n",
    "        Layer(784, 600, T.nnet.sigmoid, 1.00),\n",
    "        Layer(600, 500, T.nnet.sigmoid, 1.00),\n",
    "        Layer(500, 450, T.nnet.sigmoid, 1.00),\n",
    "        Layer(450, 300, T.nnet.sigmoid, 1.00),\n",
    "        Layer(300, 10, T.nnet.softmax, 1.00)\n",
    "        ]\n",
    "    X = np.copy(train_X)\n",
    "    for l, layer in enumerate(layers[:-1]):\n",
    "        corruption_level = np.float32(0.3)\n",
    "        batch_size = 100\n",
    "        n_batches = X.shape[0] // batch_size\n",
    "\n",
    "        for epoch in range(121):\n",
    "            X = shuffle(X)\n",
    "            err_all = []\n",
    "            cost = []\n",
    "            for i in range(0, n_batches):\n",
    "                start = i*batch_size\n",
    "                end = start + batch_size\n",
    "\n",
    "                noise = np.random.binomial(size=X[start:end].shape, n=1,\n",
    "                                     p=1-corruption_level)\n",
    "                err, reconst_X = layer.pretraining(X[start:end], noise)\n",
    "                err_all.append(err)\n",
    "        #list(err)\n",
    "            cost.append(np.mean(err))\n",
    "        # print(np.mean(err))\n",
    "\n",
    "        X = layer.encode_function(X)\n",
    "\n",
    "    x = T.fmatrix(name='x')\n",
    "    t = T.imatrix(name='t')\n",
    "\n",
    "    params = []\n",
    "    for i, layer in enumerate(layers):\n",
    "        params += layer.params\n",
    "        if i == 0:\n",
    "            layer.mask = layer.get_mask()\n",
    "            layer_out = layer.f_prop(x)*layer.mask\n",
    "        else:\n",
    "            layer.mask = layer.get_mask()\n",
    "            layer_out = layer.f_prop(layer_out)*layer.mask\n",
    "\n",
    "    y = layers[-1].z\n",
    "\n",
    "    cost = T.mean(T.nnet.categorical_crossentropy(y, t))\n",
    "\n",
    "    g_params = T.grad(cost=cost, wrt=params)\n",
    "    updates = sgd(params, g_params)\n",
    "\n",
    "    train = theano.function(inputs=[x, t], outputs=cost, updates=updates,\n",
    "                        allow_input_downcast=True, name='train')\n",
    "    valid = theano.function(inputs=[x, t], outputs=[cost, T.argmax(y, axis=1)],\n",
    "                        allow_input_downcast=True, name='valid')\n",
    "    test = theano.function([x], T.argmax(y, axis=1), name='test')\n",
    "    \n",
    "    batch_size = 100\n",
    "    n_batches = train_X.shape[0]//batch_size\n",
    "\n",
    "    for epoch in range(400):\n",
    "        train_X, train_y = shuffle(train_X, train_y)\n",
    "        for i in range(n_batches):\n",
    "            start = i*batch_size\n",
    "            end = start + batch_size\n",
    "            train(train_X[start:end], train_y[start:end])\n",
    "        valid_cost, predict_y = valid(valid_X, valid_y)\n",
    "    return test(test_X)\n"
   ]
  },
  {
   "cell_type": "code",
   "execution_count": null,
   "metadata": {
    "collapsed": false,
    "deletable": false,
    "ilect": {
     "course_id": 4,
     "course_rank": 6,
     "is_evaluation": true
    }
   },
   "outputs": [],
   "source": [
    "from collections import OrderedDict\n",
    "from sklearn.utils import shuffle\n",
    "from sklearn.metrics import f1_score\n",
    "from sklearn.datasets import fetch_mldata\n",
    "from sklearn.cross_validation import train_test_split\n",
    "\n",
    "import numpy as np\n",
    "import theano\n",
    "import theano.tensor as T\n",
    "\n",
    "\n",
    "def load_mnist():\n",
    "    mnist = fetch_mldata('MNIST original')\n",
    "    mnist_X, mnist_y = shuffle(mnist.data.astype('float32'),\n",
    "                               mnist.target.astype('int32'),\n",
    "                               random_state=42)\n",
    "\n",
    "    mnist_X = mnist_X / 255.0\n",
    "\n",
    "    train_X, test_X, train_y, test_y = train_test_split(mnist_X, mnist_y,\n",
    "                                                        test_size=0.2,\n",
    "                                                        random_state=42)\n",
    "\n",
    "    return (train_X, test_X, train_y, test_y)\n",
    "\n",
    "\n",
    "def check_homework():\n",
    "    train_X, test_X, train_y, test_y = load_mnist()\n",
    "\n",
    "    # validate for small dataset\n",
    "    train_X_mini = train_X[:1000]\n",
    "    train_y_mini = train_y[:1000]\n",
    "    test_X_mini = test_X[:1000]\n",
    "    test_y_mini = test_y[:1000]\n",
    "\n",
    "    pred_y = homework(train_X_mini, train_y_mini, test_X_mini)\n",
    "    return f1_score(test_y_mini, pred_y, average='macro')\n",
    "\n",
    "if 'homework' in globals():\n",
    "    result = check_homework()\n",
    "\n",
    "    print(\"No Error Occured!\")"
   ]
  },
  {
   "cell_type": "code",
   "execution_count": 1,
   "metadata": {
    "collapsed": false
   },
   "outputs": [
    {
     "name": "stderr",
     "output_type": "stream",
     "text": [
      "Using gpu device 0: GRID K520 (CNMeM is enabled with initial size: 95.0% of memory, cuDNN 4007)\n"
     ]
    }
   ],
   "source": [
    "from collections import OrderedDict\n",
    "from sklearn.utils import shuffle\n",
    "from sklearn.metrics import f1_score\n",
    "from sklearn.datasets import fetch_mldata\n",
    "from sklearn.cross_validation import train_test_split\n",
    "\n",
    "import numpy as np\n",
    "import theano\n",
    "import theano.tensor as T\n",
    "\n",
    "\n",
    "mnist = fetch_mldata('MNIST original')\n",
    "mnist_X, mnist_y = shuffle(mnist.data.astype('float32'),\n",
    "                           mnist.target.astype('int32'),\n",
    "                           random_state=42)\n",
    "\n",
    "mnist_X = mnist_X / 255.0\n",
    "\n",
    "train_X, test_X, train_y, test_y = train_test_split(mnist_X, mnist_y,\n",
    "                                                    test_size=0.2,\n",
    "                                                    random_state=122)"
   ]
  },
  {
   "cell_type": "code",
   "execution_count": null,
   "metadata": {
    "collapsed": false
   },
   "outputs": [],
   "source": [
    "print(sum(homework(train_X,train_y,test_X)==test_y)/len(test_y))"
   ]
  },
  {
   "cell_type": "code",
   "execution_count": null,
   "metadata": {
    "collapsed": true
   },
   "outputs": [],
   "source": []
  }
 ],
 "metadata": {
  "anaconda-cloud": {},
  "kernelspec": {
   "display_name": "Python [Root]",
   "language": "python",
   "name": "Python [Root]"
  },
  "language_info": {
   "codemirror_mode": {
    "name": "ipython",
    "version": 3
   },
   "file_extension": ".py",
   "mimetype": "text/x-python",
   "name": "python",
   "nbconvert_exporter": "python",
   "pygments_lexer": "ipython3",
   "version": "3.5.2"
  }
 },
 "nbformat": 4,
 "nbformat_minor": 0
}
