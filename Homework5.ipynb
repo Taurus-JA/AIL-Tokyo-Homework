{
 "cells": [
  {
   "cell_type": "markdown",
   "metadata": {},
   "source": [
    "# 第5回講義 宿題"
   ]
  },
  {
   "cell_type": "markdown",
   "metadata": {},
   "source": [
    "## 課題. Theanoを用いて, MNISTを多層パーセプトロン(MLP)で学習せよ"
   ]
  },
  {
   "cell_type": "markdown",
   "metadata": {},
   "source": [
    "### 注意"
   ]
  },
  {
   "cell_type": "markdown",
   "metadata": {},
   "source": [
    "- homework関数を完成させて提出してください\n",
    "    - 訓練データはtrain_X, train_y, テストデータはtest_Xで与えられます\n",
    "    - train_Xとtrain_yをtrain_X, train_yとvalid_X, valid_yに分けるなどしてモデルを学習させてください\n",
    "    - test_Xに対して予想ラベルpred_yを作り, homework関数の戻り値としてください\\\n",
    "- pred_yのtest_yに対する精度(F値)で評価します\n",
    "- 全体の実行時間がiLect上で60分を超えないようにしてください\n",
    "- homework関数の外には何も書かないでください"
   ]
  },
  {
   "cell_type": "markdown",
   "metadata": {},
   "source": [
    "- CNNは使わないでください"
   ]
  },
  {
   "cell_type": "markdown",
   "metadata": {},
   "source": [
    "次のような内容のコードが**事前**に実行されます"
   ]
  },
  {
   "cell_type": "markdown",
   "metadata": {},
   "source": [
    "```python\n",
    "from collections import OrderedDict\n",
    "from sklearn.utils import shuffle\n",
    "from sklearn.metrics import f1_score\n",
    "from sklearn.datasets import fetch_mldata\n",
    "from sklearn.cross_validation import train_test_split\n",
    "\n",
    "import numpy as np\n",
    "import theano\n",
    "import theano.tensor as T\n",
    "\n",
    "\n",
    "mnist = fetch_mldata('MNIST original')\n",
    "mnist_X, mnist_y = shuffle(mnist.data.astype('float32'),\n",
    "                           mnist.target.astype('int32'), random_state=42)\n",
    "\n",
    "mnist_X = mnist_X / 255.0\n",
    "\n",
    "train_X, test_X, train_y, test_y = train_test_split(mnist_X, mnist_y,\n",
    "                                                    test_size=0.2,\n",
    "                                                    random_state=??)\n",
    "\n",
    "```"
   ]
  },
  {
   "cell_type": "markdown",
   "metadata": {},
   "source": [
    "次のセルのhomework関数を完成させて提出してください\n",
    "- **上記のコード以外で必要なもの**は全て書いてください"
   ]
  },
  {
   "cell_type": "code",
   "execution_count": 9,
   "metadata": {
    "collapsed": true,
    "deletable": false,
    "ilect": {
     "is_homework": true
    }
   },
   "outputs": [],
   "source": [
    "def homework(train_X, train_y, test_X):\n",
    "    # Multi Layer Perceptron\n",
    "    train_y = np.eye(10)[train_y]\n",
    "    train_X, valid_X, train_y, valid_y = train_test_split(train_X, train_y,\n",
    "                                                          test_size=0.2,\n",
    "                                                          random_state=None)\n",
    "    class Layer:\n",
    "        # Constructor\n",
    "        def __init__(self, in_dim, out_dim, function, possibility, dropout = True):\n",
    "            self.in_dim = in_dim\n",
    "            self.out_dim = out_dim\n",
    "            self.function = function\n",
    "            self.W = theano.shared(np.random.uniform(low=-0.10, high=0.08,\n",
    "                                               size=(in_dim, out_dim)\n",
    "                                               ).astype('float32'), name='W')\n",
    "            self.b = theano.shared(np.random.uniform(low =-0.10,high = 0.08,\n",
    "                                                     size = out_dim).astype('float32'), name='b')\n",
    "            self.possibility = possibility\n",
    "            self.mask =[]\n",
    "            self.params = [self.W, self.b]\n",
    "            #self.momentum =　momentum\n",
    "\n",
    "        # Forward Propagation\n",
    "        def f_prop(self, x):\n",
    "            #self.mask = self.get_mask()\n",
    "            self.z = self.function(T.dot(x, self.W) + self.b)\n",
    "            return self.z\n",
    "        \n",
    "        def get_mask(self):\n",
    "            a = np.random.rand(self.out_dim) < self.possibility\n",
    "            return a*np.float32(1.0)\n",
    "        \n",
    "    # Stochastic Gradient Descent\n",
    "    def sgd(params, g_params, eps=np.float32(0.1)):\n",
    "        updates = OrderedDict()\n",
    "        ##momentum updates\n",
    "        for param, g_param in zip(params, g_params):\n",
    "            updates[param] = param - eps*g_param\n",
    "            \n",
    "        #print(updates)\n",
    "        return updates\n",
    "    \n",
    "    layers = [\n",
    "        Layer(784, 200, T.nnet.sigmoid, 0.80),\n",
    "        Layer(200, 100, T.nnet.sigmoid, 0.60),\n",
    "        Layer(100, 10, T.nnet.softmax, 1.00)]\n",
    "\n",
    "    x = T.fmatrix('x')\n",
    "    t = T.imatrix('t')\n",
    "\n",
    "    params = []\n",
    "    for i, layer in enumerate(layers):\n",
    "        params += layer.params\n",
    "        # print (params[0].get_value(),params[1].get_value())\n",
    "        if i == 0:\n",
    "            layer.mask = layer.get_mask()\n",
    "            layer_out = layer.f_prop(x)*layer.mask \n",
    "        else:\n",
    "            layer.mask = layer.get_mask()\n",
    "            layer_out = layer.f_prop(layer_out)*layer.mask \n",
    "    y = layers[-1].z\n",
    "    \n",
    "    for i, layer in enumerate(layers):\n",
    "        if i == 0:\n",
    "            layer_out = layer.f_prop(x)*layer.possibility\n",
    "        else:\n",
    "            layer_out = layer.f_prop(layer_out)*layer.possibility\n",
    "\n",
    "    result = layers[-1].z\n",
    "    \n",
    "    cost = T.mean(T.nnet.categorical_crossentropy(y, t))\n",
    "\n",
    "    g_params = T.grad(cost=cost, wrt=params)\n",
    "    \n",
    "    updates = sgd(params, g_params)\n",
    "\n",
    "    train = theano.function(inputs=[x, t], outputs=cost, updates=updates,\n",
    "                            allow_input_downcast=True, name='train')\n",
    "    valid = theano.function(inputs=[x, t], outputs=[cost, T.argmax(y, axis=1)],\n",
    "                            allow_input_downcast=True, name='valid')\n",
    "    test = theano.function(inputs=[x], outputs=T.argmax(result, axis=1), name='test')\n",
    "\n",
    "    batch_size = 100\n",
    "    n_batches = train_X.shape[0]//batch_size\n",
    "    for epoch in range(150):\n",
    "        train_X, train_y = shuffle(train_X, train_y)\n",
    "        for i in range(n_batches):\n",
    "            start = i*batch_size\n",
    "            end = start + batch_size\n",
    "            train(train_X[start:end], train_y[start:end])\n",
    "        valid_cost, pred_y = valid(valid_X, valid_y)\n",
    "        #if epoch % 10 == 9:\n",
    "         #   print('EPOCH:: %i, Validation cost: %.3f, Validation F1: %.3f' %\n",
    "        #        (epoch + 1, valid_cost,\n",
    "        #           f1_score(np.argmax(valid_y, axis=1).astype('int32'),\n",
    "                     #pred_y, average='macro')))\n",
    "    pred_y = test(test_X)\n",
    "    #mistakelist = np.where((pred_y != test_y)==1)[0]\n",
    "    \n",
    "  \n",
    "    \n",
    "    return pred_y"
   ]
  },
  {
   "cell_type": "code",
   "execution_count": 2,
   "metadata": {
    "collapsed": false
   },
   "outputs": [
    {
     "name": "stderr",
     "output_type": "stream",
     "text": [
      "WARNING (theano.sandbox.cuda): CUDA is installed, but device gpu is not available  (error: Unable to get the number of gpus available: no CUDA-capable device is detected)\n"
     ]
    }
   ],
   "source": [
    "from collections import OrderedDict\n",
    "from sklearn.utils import shuffle\n",
    "from sklearn.metrics import f1_score\n",
    "from sklearn.datasets import fetch_mldata\n",
    "from sklearn.cross_validation import train_test_split\n",
    "\n",
    "import numpy as np\n",
    "import theano\n",
    "import theano.tensor as T\n",
    "\n",
    "\n",
    "mnist = fetch_mldata('MNIST original')\n",
    "mnist_X, mnist_y = shuffle(mnist.data.astype('float32'),\n",
    "                           mnist.target.astype('int32'), random_state=42)\n",
    "\n",
    "mnist_X = mnist_X / 255.0\n",
    "\n",
    "train_X, test_X, train_y, test_y = train_test_split(mnist_X, mnist_y,\n",
    "                                                    test_size=0.2,\n",
    "                                                    random_state=None)"
   ]
  },
  {
   "cell_type": "code",
   "execution_count": 5,
   "metadata": {
    "collapsed": false
   },
   "outputs": [
    {
     "name": "stdout",
     "output_type": "stream",
     "text": [
      "EPOCH:: 10, Validation cost: 0.343, Validation F1: 0.901\n",
      "EPOCH:: 20, Validation cost: 0.236, Validation F1: 0.932\n",
      "EPOCH:: 30, Validation cost: 0.176, Validation F1: 0.949\n",
      "EPOCH:: 40, Validation cost: 0.144, Validation F1: 0.958\n",
      "EPOCH:: 50, Validation cost: 0.124, Validation F1: 0.963\n",
      "EPOCH:: 60, Validation cost: 0.111, Validation F1: 0.965\n",
      "EPOCH:: 70, Validation cost: 0.103, Validation F1: 0.968\n",
      "EPOCH:: 80, Validation cost: 0.095, Validation F1: 0.970\n",
      "EPOCH:: 90, Validation cost: 0.091, Validation F1: 0.972\n",
      "EPOCH:: 100, Validation cost: 0.088, Validation F1: 0.972\n",
      "EPOCH:: 110, Validation cost: 0.086, Validation F1: 0.973\n",
      "EPOCH:: 120, Validation cost: 0.085, Validation F1: 0.973\n",
      "EPOCH:: 130, Validation cost: 0.085, Validation F1: 0.974\n",
      "EPOCH:: 140, Validation cost: 0.084, Validation F1: 0.975\n",
      "EPOCH:: 150, Validation cost: 0.084, Validation F1: 0.975\n",
      "EPOCH:: 160, Validation cost: 0.084, Validation F1: 0.975\n",
      "EPOCH:: 170, Validation cost: 0.084, Validation F1: 0.975\n",
      "EPOCH:: 180, Validation cost: 0.085, Validation F1: 0.976\n",
      "EPOCH:: 190, Validation cost: 0.085, Validation F1: 0.976\n",
      "EPOCH:: 200, Validation cost: 0.086, Validation F1: 0.975\n"
     ]
    },
    {
     "data": {
      "text/plain": [
       "[array([7, 1, 6, ..., 7, 0, 9]),\n",
       " 0.9722142857142857,\n",
       " array([7, 1, 6, ..., 7, 0, 9], dtype=int32)]"
      ]
     },
     "execution_count": 5,
     "metadata": {},
     "output_type": "execute_result"
    }
   ],
   "source": [
    "homework(train_X,train_y,test_X)#0.70,0.50"
   ]
  },
  {
   "cell_type": "code",
   "execution_count": 7,
   "metadata": {
    "collapsed": false
   },
   "outputs": [
    {
     "name": "stdout",
     "output_type": "stream",
     "text": [
      "EPOCH:: 10, Validation cost: 0.325, Validation F1: 0.904\n",
      "EPOCH:: 20, Validation cost: 0.218, Validation F1: 0.936\n",
      "EPOCH:: 30, Validation cost: 0.167, Validation F1: 0.951\n",
      "EPOCH:: 40, Validation cost: 0.138, Validation F1: 0.958\n",
      "EPOCH:: 50, Validation cost: 0.120, Validation F1: 0.964\n",
      "EPOCH:: 60, Validation cost: 0.109, Validation F1: 0.967\n",
      "EPOCH:: 70, Validation cost: 0.100, Validation F1: 0.969\n",
      "EPOCH:: 80, Validation cost: 0.098, Validation F1: 0.969\n",
      "EPOCH:: 90, Validation cost: 0.094, Validation F1: 0.970\n",
      "EPOCH:: 100, Validation cost: 0.090, Validation F1: 0.972\n",
      "EPOCH:: 110, Validation cost: 0.089, Validation F1: 0.972\n",
      "EPOCH:: 120, Validation cost: 0.090, Validation F1: 0.972\n",
      "EPOCH:: 130, Validation cost: 0.089, Validation F1: 0.974\n",
      "EPOCH:: 140, Validation cost: 0.090, Validation F1: 0.972\n",
      "EPOCH:: 150, Validation cost: 0.090, Validation F1: 0.973\n",
      "EPOCH:: 160, Validation cost: 0.090, Validation F1: 0.973\n",
      "EPOCH:: 170, Validation cost: 0.091, Validation F1: 0.974\n",
      "EPOCH:: 180, Validation cost: 0.092, Validation F1: 0.974\n",
      "EPOCH:: 190, Validation cost: 0.092, Validation F1: 0.974\n",
      "EPOCH:: 200, Validation cost: 0.093, Validation F1: 0.975\n"
     ]
    },
    {
     "data": {
      "text/plain": [
       "[array([7, 1, 6, ..., 7, 0, 9]),\n",
       " 0.97642857142857142,\n",
       " array([7, 1, 6, ..., 7, 0, 9], dtype=int32)]"
      ]
     },
     "execution_count": 7,
     "metadata": {},
     "output_type": "execute_result"
    }
   ],
   "source": [
    "homework(train_X,train_y,test_X)"
   ]
  },
  {
   "cell_type": "code",
   "execution_count": 10,
   "metadata": {
    "collapsed": false
   },
   "outputs": [
    {
     "data": {
      "text/plain": [
       "array([7, 1, 6, ..., 7, 0, 9])"
      ]
     },
     "execution_count": 10,
     "metadata": {},
     "output_type": "execute_result"
    }
   ],
   "source": [
    "homework(train_X,train_y,test_X)"
   ]
  },
  {
   "cell_type": "code",
   "execution_count": null,
   "metadata": {
    "collapsed": false,
    "deletable": false,
    "ilect": {
     "course_id": 4,
     "course_rank": 5,
     "is_evaluation": true
    }
   },
   "outputs": [],
   "source": [
    "from collections import OrderedDict\n",
    "from sklearn.utils import shuffle\n",
    "from sklearn.metrics import f1_score\n",
    "from sklearn.datasets import fetch_mldata\n",
    "from sklearn.cross_validation import train_test_split\n",
    "\n",
    "import numpy as np\n",
    "import theano\n",
    "import theano.tensor as T\n",
    "\n",
    "\n",
    "def load_mnist():\n",
    "    mnist = fetch_mldata('MNIST original')\n",
    "    mnist_X, mnist_y = shuffle(mnist.data.astype('float32'),\n",
    "                               mnist.target.astype('int32'), random_state=42)\n",
    "\n",
    "    mnist_X = mnist_X / 255.0\n",
    "\n",
    "    train_X, test_X, train_y, test_y = train_test_split(mnist_X, mnist_y,\n",
    "                                                        test_size=0.2,\n",
    "                                                        random_state=42)\n",
    "\n",
    "    return (train_X, test_X, train_y, test_y)\n",
    "\n",
    "\n",
    "def check_homework():\n",
    "    train_X, test_X, train_y, test_y = load_mnist()\n",
    "\n",
    "    # validate for small dataset\n",
    "    train_X_mini = train_X[:1000]\n",
    "    train_y_mini = train_y[:1000]\n",
    "    test_X_mini = test_X[:1000]\n",
    "    test_y_mini = test_y[:1000]\n",
    "\n",
    "    pred_y = homework(train_X_mini, train_y_mini, test_X_mini)\n",
    "    return f1_score(test_y_mini, pred_y, average='macro')\n",
    "\n",
    "if 'homework' in globals():\n",
    "    result = check_homework()\n",
    "\n",
    "    print(\"No Error Occured!\")"
   ]
  }
 ],
 "metadata": {
  "anaconda-cloud": {},
  "kernelspec": {
   "display_name": "Python [Root]",
   "language": "python",
   "name": "Python [Root]"
  },
  "language_info": {
   "codemirror_mode": {
    "name": "ipython",
    "version": 3
   },
   "file_extension": ".py",
   "mimetype": "text/x-python",
   "name": "python",
   "nbconvert_exporter": "python",
   "pygments_lexer": "ipython3",
   "version": "3.5.2"
  }
 },
 "nbformat": 4,
 "nbformat_minor": 0
}
