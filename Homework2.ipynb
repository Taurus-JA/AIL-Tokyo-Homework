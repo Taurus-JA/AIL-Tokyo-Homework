{
 "cells": [
  {
   "cell_type": "markdown",
   "metadata": {},
   "source": [
    "# 課題. MNISTをk-NNで学習せよ\n",
    "注意\n",
    "homework関数を完成させて提出してください\n",
    "\n",
    "訓練データはtrain_X, train_y, テストデータはtest_Xで与えられます\n",
    "\n",
    "train_Xとtrain_yをtrain_X, train_yとvalid_X, valid_yに分けるなどしてモデルを学習させてください\n",
    "test_Xに対して予想ラベルpred_yを作り, homework関数の戻り値としてください\n",
    "pred_yのtest_yに対する精度(F値)で評価します\n",
    "全体の実行時間がiLect上で60分を超えないようにしてください\n",
    "homework関数の外には何も書かないでください\n",
    "k-NNの実装にscikit-learnなどのライブラリを使わないでください\n",
    "次のコードが事前に実行されます"
   ]
  },
  {
   "cell_type": "code",
   "execution_count": 2,
   "metadata": {
    "collapsed": false
   },
   "outputs": [],
   "source": [
    "from sklearn.utils import shuffle\n",
    "from sklearn.metrics import f1_score\n",
    "from sklearn.datasets import fetch_mldata\n",
    "from sklearn.cross_validation import train_test_split\n",
    "\n",
    "import numpy as np\n",
    "\n",
    "\n",
    "mnist = fetch_mldata('MNIST original')\n",
    "mnist_X, mnist_y = shuffle(mnist.data.astype('float32'),\n",
    "                           mnist.target.astype('int32'), random_state=42)\n",
    "\n",
    "mnist_X = mnist_X / 255.0\n",
    "\n",
    "train_X, test_X, train_y, test_y = train_test_split(mnist_X, mnist_y,\n",
    "                                                    test_size=0.2,\n",
    "                                                    random_state=None)"
   ]
  },
  {
   "cell_type": "markdown",
   "metadata": {},
   "source": [
    "次のセルのhomework関数を完成させて提出してください\n",
    "上記のコード以外で必要なものは全て書いてください"
   ]
  },
  {
   "cell_type": "code",
   "execution_count": 25,
   "metadata": {
    "collapsed": false
   },
   "outputs": [
    {
     "name": "stdout",
     "output_type": "stream",
     "text": [
      "[ 4.58257569  8.77496439]\n",
      "[[ 1.   2.   4. ]\n",
      " [ 2.   2.5  3. ]]\n",
      "(3, 2) (2,)\n",
      "[1 4 3]\n",
      "[[1 2 4]\n",
      " [4 5 6]\n",
      " [3 2 3]]\n",
      "[[1 2 4]\n",
      " [3 2 3]\n",
      " [4 5 6]]\n"
     ]
    },
    {
     "data": {
      "text/plain": [
       "array([1, 2])"
      ]
     },
     "execution_count": 25,
     "metadata": {},
     "output_type": "execute_result"
    }
   ],
   "source": [
    "a = np.array([[1,2,4],[4,5,6]])\n",
    "print(np.sqrt(np.sum(a**2,axis=1)))\n",
    "b=np.array([1,2])\n",
    "print((a.T/b).T)\n",
    "print(a.T.shape,b.shape)\n",
    "f = np.array([[3,2,3]])\n",
    "e = np.append(np.array(a),f,axis = 0)\n",
    "print(e[:,0])\n",
    "e = [e[i] for i in range(0,len(e))]\n",
    "print(np.array(e))\n",
    "e = sorted(e,key=lambda x:x[0])\n",
    "print(np.array(e))\n",
    "e[0][0:2]"
   ]
  },
  {
   "cell_type": "code",
   "execution_count": 16,
   "metadata": {
    "collapsed": false
   },
   "outputs": [
    {
     "name": "stdout",
     "output_type": "stream",
     "text": [
      "4\n"
     ]
    }
   ],
   "source": [
    "def mode(arr):\n",
    "    r = [0] * (int(max(arr[1])) + 1)\n",
    "    for a in map(int,arr[1]):\n",
    "        r[a] += 1\n",
    "    if r.count(max(r))==1:\n",
    "        return r.index(max(r))\n",
    "    else:\n",
    "        return arr[0]\n",
    "c =np.array([1.,2.,4.,5.],dtype = np.float64).astype(int)\n",
    "#d =[ c[i] for i in range(0,len(c))].astype(np.float64)\n",
    "\n",
    "#d.append(mode(c))\n",
    "print(len(c))"
   ]
  },
  {
   "cell_type": "code",
   "execution_count": 20,
   "metadata": {
    "collapsed": false
   },
   "outputs": [
    {
     "name": "stdout",
     "output_type": "stream",
     "text": [
      "[[ 0.9110775   3.        ]\n",
      " [ 0.90592611  3.        ]\n",
      " [ 0.90315121  3.        ]\n",
      " [ 0.88856852  3.        ]\n",
      " [ 0.87627614  3.        ]\n",
      " [ 0.87540203  3.        ]]\n",
      "[[ 0.85760391  2.        ]\n",
      " [ 0.85341579  2.        ]\n",
      " [ 0.82683951  2.        ]\n",
      " [ 0.82155979  2.        ]\n",
      " [ 0.81552023  2.        ]\n",
      " [ 0.80747575  2.        ]]\n",
      "[[ 0.88781905  3.        ]\n",
      " [ 0.87655675  3.        ]\n",
      " [ 0.87463689  3.        ]\n",
      " [ 0.86989015  3.        ]\n",
      " [ 0.86876708  3.        ]\n",
      " [ 0.86644202  3.        ]]\n",
      "[[ 0.93091905  7.        ]\n",
      " [ 0.91680372  7.        ]\n",
      " [ 0.90492934  7.        ]\n",
      " [ 0.90451443  7.        ]\n",
      " [ 0.90029764  7.        ]\n",
      " [ 0.89751941  7.        ]]\n",
      "[[ 0.89994973  4.        ]\n",
      " [ 0.8935734   4.        ]\n",
      " [ 0.87283891  4.        ]\n",
      " [ 0.86992592  4.        ]\n",
      " [ 0.86397767  4.        ]\n",
      " [ 0.86275899  4.        ]]\n",
      "[3 2 3 7 4] [3, 2, 3, 7, 4] (2, 44800)\n"
     ]
    }
   ],
   "source": [
    "def homework(train_X,train_y,test_X):\n",
    "    #最頻値関数の定義\n",
    "    def mode(arr):\n",
    "        r = [0]*10\n",
    "        for a in range(0,len(arr)):\n",
    "            r[int(np.asscalar(arr[a]))] += 1\n",
    "        if r.count(max(r))==1:\n",
    "            return r.index(max(r))\n",
    "        else:\n",
    "            return arr[0].astype(int)\n",
    "    # cross validation をする。　n-fold caross validation　n = 5\n",
    "    for  j in range(0,1):\n",
    "        new_train_X = np.array([train_X[i] for i in range(0,len(train_X)) if i%5 != j])\n",
    "        val_X = np.array([train_X[i] for i in range(0,len(train_X)) if i%5 == j])\n",
    "        new_train_y = np.array([train_y[i] for i in range(0,len(train_y) ) if i%5 != j ])\n",
    "        val_y = np.array([train_y[i] for i in range(0,len(train_y)) if i%5 == j])\n",
    "        #パラメーターkのトレーニング\n",
    "        for k in range(11,12):\n",
    "            predicted_list = []\n",
    "            #result = cos(train_X,val_X)\n",
    "            norm1 = np.sqrt(np.sum(new_train_X**2,axis = 1))\n",
    "            norm2 = np.sqrt(np.sum(val_X**2,axis = 1))\n",
    "            result = ((np.dot(val_X,new_train_X.T)/norm1).T/norm2).T\n",
    "            for i in range(0,5):\n",
    "                tmp = np.append(np.array([result[i]]),np.array([new_train_y.T]),axis = 0).T\n",
    "                tmp = [tmp[i] for i in range(0,len(tmp))]##sort のために　list化\n",
    "                tmp = np.array(sorted(tmp,key=lambda x:x[0],reverse = True)).T\n",
    "                predicted_list.append(mode(tmp[1,0:k]))\n",
    "                print(tmp.T[0:6])\n",
    "    print(val_y[0:5],predicted_list,tmp.shape)\n",
    "    return fi_score(val_y,predicted_list)\n",
    "        \n",
    "homework(train_X,train_y,test_X)"
   ]
  },
  {
   "cell_type": "code",
   "execution_count": 65,
   "metadata": {
    "collapsed": false
   },
   "outputs": [
    {
     "name": "stdout",
     "output_type": "stream",
     "text": [
      "[[1, 2], [3, 5], [2, 3]]\n"
     ]
    }
   ],
   "source": [
    "aa=[[1,2],[3,5],[2,3]]\n",
    "print(aa[0:len(aa)])"
   ]
  },
  {
   "cell_type": "code",
   "execution_count": 11,
   "metadata": {
    "collapsed": false
   },
   "outputs": [
    {
     "data": {
      "text/plain": [
       "True"
      ]
     },
     "execution_count": 11,
     "metadata": {},
     "output_type": "execute_result"
    }
   ],
   "source": [
    "1 == 1.0"
   ]
  },
  {
   "cell_type": "code",
   "execution_count": 18,
   "metadata": {
    "collapsed": false
   },
   "outputs": [
    {
     "name": "stdout",
     "output_type": "stream",
     "text": [
      "[[ 0.9110775   3.        ]\n",
      " [ 0.90592611  3.        ]\n",
      " [ 0.90315121  3.        ]\n",
      " [ 0.88856852  3.        ]\n",
      " [ 0.87627614  3.        ]\n",
      " [ 0.87540203  3.        ]]\n",
      "[[ 0.85760391  2.        ]\n",
      " [ 0.85341579  2.        ]\n",
      " [ 0.82683951  2.        ]\n",
      " [ 0.82155979  2.        ]\n",
      " [ 0.81552023  2.        ]\n",
      " [ 0.80747575  2.        ]]\n",
      "[[ 0.88781905  3.        ]\n",
      " [ 0.87655675  3.        ]\n",
      " [ 0.87463689  3.        ]\n",
      " [ 0.86989015  3.        ]\n",
      " [ 0.86876708  3.        ]\n",
      " [ 0.86644202  3.        ]]\n",
      "[[ 0.93091905  7.        ]\n",
      " [ 0.91680372  7.        ]\n",
      " [ 0.90492934  7.        ]\n",
      " [ 0.90451443  7.        ]\n",
      " [ 0.90029764  7.        ]\n",
      " [ 0.89751941  7.        ]]\n",
      "[[ 0.89994973  4.        ]\n",
      " [ 0.8935734   4.        ]\n",
      " [ 0.87283891  4.        ]\n",
      " [ 0.86992592  4.        ]\n",
      " [ 0.86397767  4.        ]\n",
      " [ 0.86275899  4.        ]]\n",
      "[3 2 3 7 4] [] (2, 44800)\n"
     ]
    }
   ],
   "source": [
    "def homework(train_X,train_y,test_X):\n",
    "    #f_scoreを格納するリスト\n",
    "    f = []\n",
    "    #最頻値関数の定義\n",
    "    def mode(arr):\n",
    "        r = [0]*10\n",
    "        for a in range(0,len(arr)):\n",
    "            r[int(np.asscalar(arr[a]))] += 1\n",
    "        if r.count(max(r))==1:\n",
    "            return r.index(max(r))\n",
    "        else:\n",
    "            return arr[0].astype(int)\n",
    "    # cross validation をする。　n-fold caross validation　n = 5\n",
    "    for  j in range(0,5):\n",
    "        new_train_X = np.array([train_X[i] for i in range(0,len(train_X)) if i%5 != j])\n",
    "        val_X = np.array([train_X[i] for i in range(0,len(train_X)) if i%5 == j])\n",
    "        new_train_y = np.array([train_y[i] for i in range(0,len(train_y) ) if i%5 != j ])\n",
    "        val_y = np.array([train_y[i] for i in range(0,len(train_y)) if i%5 == j])\n",
    "        #パラメーターkのトレーニング\n",
    "        for k in range(11,12):\n",
    "            predicted_list = []\n",
    "            #result = cos(train_X,val_X)\n",
    "            norm1 = np.sqrt(np.sum(new_train_X**2,axis = 1))\n",
    "            norm2 = np.sqrt(np.sum(val_X**2,axis = 1))\n",
    "            result = ((np.dot(val_X,new_train_X.T)/norm1).T/norm2).T\n",
    "            for i in range(0,len(result)):\n",
    "                tmp = np.append(np.array([result[i]]),np.array([new_train_y.T]),axis = 0).T\n",
    "                tmp = [tmp[i] for i in range(0,len(tmp))]##sort のために　list化\n",
    "                tmp = np.array(sorted(tmp,key=lambda x:x[0],reverse = True)).T\n",
    "                predicted_list.append(mode(tmp[1,0:k]))\n",
    "                print(tmp.T[0:6])\n",
    "                f.append(fi_score(val_y,predicted_list))\n",
    "    print(val_y[0:5],predicted_list,tmp.shape)\n",
    "    return \n",
    "        \n",
    "homework(train_X,train_y,test_X)"
   ]
  },
  {
   "cell_type": "code",
   "execution_count": 27,
   "metadata": {
    "collapsed": false
   },
   "outputs": [
    {
     "name": "stdout",
     "output_type": "stream",
     "text": [
      "[[ 0.9110775   3.        ]\n",
      " [ 0.90592611  3.        ]\n",
      " [ 0.90315121  3.        ]\n",
      " [ 0.88856852  3.        ]\n",
      " [ 0.87627614  3.        ]\n",
      " [ 0.87540203  3.        ]]\n",
      "[[ 0.85760391  2.        ]\n",
      " [ 0.85341579  2.        ]\n",
      " [ 0.82683951  2.        ]\n",
      " [ 0.82155979  2.        ]\n",
      " [ 0.81552023  2.        ]\n",
      " [ 0.80747575  2.        ]]\n",
      "[[ 0.88781905  3.        ]\n",
      " [ 0.87655675  3.        ]\n",
      " [ 0.87463689  3.        ]\n",
      " [ 0.86989015  3.        ]\n",
      " [ 0.86876708  3.        ]\n",
      " [ 0.86644202  3.        ]]\n",
      "[[ 0.93091905  7.        ]\n",
      " [ 0.91680372  7.        ]\n",
      " [ 0.90492934  7.        ]\n",
      " [ 0.90451443  7.        ]\n",
      " [ 0.90029764  7.        ]\n",
      " [ 0.89751941  7.        ]]\n",
      "[[ 0.89994973  4.        ]\n",
      " [ 0.8935734   4.        ]\n",
      " [ 0.87283891  4.        ]\n",
      " [ 0.86992592  4.        ]\n",
      " [ 0.86397767  4.        ]\n",
      " [ 0.86275899  4.        ]]\n",
      "[3 2 3 7 4] [3, 2, 3, 7, 4] (2, 44800)\n"
     ]
    },
    {
     "name": "stderr",
     "output_type": "stream",
     "text": [
      "/Users/iwamotoshinichi/anaconda/lib/python3.5/site-packages/sklearn/metrics/classification.py:756: DeprecationWarning: The default `weighted` averaging is deprecated, and from version 0.18, use of precision, recall or F-score with multiclass or multilabel data or pos_label=None will result in an exception. Please set an explicit value for `average`, one of (None, 'micro', 'macro', 'weighted', 'samples'). In cross validation use, for instance, scoring=\"f1_weighted\" instead of scoring=\"f1\".\n",
      "  sample_weight=sample_weight)\n"
     ]
    },
    {
     "data": {
      "text/plain": [
       "1.0"
      ]
     },
     "execution_count": 27,
     "metadata": {},
     "output_type": "execute_result"
    }
   ],
   "source": [
    "def homework(train_X,train_y,test_X):\n",
    "    #最頻値関数の定義\n",
    "    def mode(arr):\n",
    "        r = [0]*10\n",
    "        for a in range(0,len(arr)):\n",
    "            r[int(np.asscalar(arr[a]))] += 1\n",
    "        if r.count(max(r))==1:\n",
    "            return r.index(max(r))\n",
    "        else:\n",
    "            return arr[0].astype(int)\n",
    "    # cross validation をする。　n-fold caross validation　n = 5\n",
    "    for  j in range(0,1):\n",
    "        new_train_X = np.array([train_X[i] for i in range(0,len(train_X)) if i%5 != j])\n",
    "        val_X = np.array([train_X[i] for i in range(0,len(train_X)) if i%5 == j])\n",
    "        new_train_y = np.array([train_y[i] for i in range(0,len(train_y) ) if i%5 != j ])\n",
    "        val_y = np.array([train_y[i] for i in range(0,len(train_y)) if i%5 == j])\n",
    "        #パラメーターkのトレーニング\n",
    "        for k in range(11,12):\n",
    "            predicted_list = []\n",
    "            #result = cos(train_X,val_X)\n",
    "            norm1 = np.sqrt(np.sum(new_train_X**2,axis = 1))\n",
    "            norm2 = np.sqrt(np.sum(val_X**2,axis = 1))\n",
    "            result = ((np.dot(val_X,new_train_X.T)/norm1).T/norm2).T\n",
    "            for i in range(0,5):\n",
    "                tmp = np.append(np.array([result[i]]),np.array([new_train_y.T]),axis = 0).T\n",
    "                tmp = [tmp[i] for i in range(0,len(tmp))]##sort のために　list化\n",
    "                tmp = np.array(sorted(tmp,key=lambda x:x[0],reverse = True)).T\n",
    "                predicted_list.append(mode(tmp[1,0:k]))\n",
    "                print(tmp.T[0:6])\n",
    "    print(val_y[0:5],predicted_list,tmp.shape)\n",
    "    return f1_score(val_y[0:5],np.array(predicted_list))\n",
    "        \n",
    "homework(train_X,train_y,test_X)"
   ]
  },
  {
   "cell_type": "code",
   "execution_count": 26,
   "metadata": {
    "collapsed": false
   },
   "outputs": [
    {
     "name": "stderr",
     "output_type": "stream",
     "text": [
      "/Users/iwamotoshinichi/anaconda/lib/python3.5/site-packages/sklearn/metrics/classification.py:756: DeprecationWarning: The default `weighted` averaging is deprecated, and from version 0.18, use of precision, recall or F-score with multiclass or multilabel data or pos_label=None will result in an exception. Please set an explicit value for `average`, one of (None, 'micro', 'macro', 'weighted', 'samples'). In cross validation use, for instance, scoring=\"f1_weighted\" instead of scoring=\"f1\".\n",
      "  sample_weight=sample_weight)\n",
      "/Users/iwamotoshinichi/anaconda/lib/python3.5/site-packages/sklearn/metrics/classification.py:1074: UndefinedMetricWarning: F-score is ill-defined and being set to 0.0 in labels with no predicted samples.\n",
      "  'precision', 'predicted', average, warn_for)\n",
      "/Users/iwamotoshinichi/anaconda/lib/python3.5/site-packages/sklearn/metrics/classification.py:1076: UndefinedMetricWarning: F-score is ill-defined and being set to 0.0 in labels with no true samples.\n",
      "  'recall', 'true', average, warn_for)\n"
     ]
    },
    {
     "data": {
      "text/plain": [
       "0.66666666666666663"
      ]
     },
     "execution_count": 26,
     "metadata": {},
     "output_type": "execute_result"
    }
   ],
   "source": [
    "f1_score(np.array([1,2,3]),np.array([1,23,3]))"
   ]
  },
  {
   "cell_type": "code",
   "execution_count": 1,
   "metadata": {
    "collapsed": false
   },
   "outputs": [
    {
     "name": "stdout",
     "output_type": "stream",
     "text": [
      "Here!!\n",
      "Here!!\n",
      "Here!!\n",
      "Here!!\n",
      "Here!!\n",
      "Here!!\n",
      "Here!!\n",
      "Here!!\n",
      "Here!!\n",
      "Here!!\n",
      "Here!!\n",
      "Here!!\n",
      "Here!!\n",
      "Here!!\n",
      "Here!!\n",
      "Here!!\n",
      "Here!!\n",
      "Here!!\n",
      "Here!!\n",
      "Here!!\n",
      "Here!!\n",
      "Here!!\n",
      "Here!!\n",
      "Here!!\n",
      "Here!!\n",
      "Here!!\n",
      "Here!!\n",
      "Here!!\n",
      "Here!!\n",
      "Here!!\n",
      "Here!!\n",
      "Here!!\n",
      "Here!!\n",
      "Here!!\n",
      "Here!!\n",
      "Here!!\n",
      "Here!!\n",
      "Here!!\n",
      "Here!!\n",
      "Here!!\n",
      "Here!!\n",
      "Here!!\n",
      "Here!!\n",
      "Here!!\n",
      "Here!!\n",
      "Here!!\n",
      "Here!!\n",
      "Here!!\n",
      "Here!!\n",
      "Here!!\n",
      "[0 3 9 ..., 9 8 3]\n",
      "0.974082549127 [0 3 9 ..., 9 8 3] 0.974071428571\n"
     ]
    },
    {
     "name": "stderr",
     "output_type": "stream",
     "text": [
      "/Users/iwamotoshinichi/anaconda/lib/python3.5/site-packages/sklearn/metrics/classification.py:756: DeprecationWarning: The default `weighted` averaging is deprecated, and from version 0.18, use of precision, recall or F-score with multiclass or multilabel data or pos_label=None will result in an exception. Please set an explicit value for `average`, one of (None, 'micro', 'macro', 'weighted', 'samples'). In cross validation use, for instance, scoring=\"f1_weighted\" instead of scoring=\"f1\".\n",
      "  sample_weight=sample_weight)\n"
     ]
    }
   ],
   "source": [
    "from sklearn.utils import shuffle\n",
    "from sklearn.metrics import f1_score\n",
    "from sklearn.datasets import fetch_mldata\n",
    "from sklearn.cross_validation import train_test_split\n",
    "\n",
    "import numpy as np\n",
    "\n",
    "\n",
    "mnist = fetch_mldata('MNIST original')\n",
    "mnist_X, mnist_y = shuffle(mnist.data.astype('float32'),\n",
    "                           mnist.target.astype('int32'), random_state=42)\n",
    "\n",
    "mnist_X = mnist_X / 255.0\n",
    "\n",
    "train_X, test_X, train_y, test_y = train_test_split(mnist_X, mnist_y,\n",
    "                                                    test_size=0.2,\n",
    "                                                    random_state=None)\n",
    "\n",
    "\n",
    "def homework(train_X,train_y,test_X):\n",
    "    pred_y =[]\n",
    "    #メモリー削減のため手動でガベージコレクション\n",
    "    import gc\n",
    "    #最頻値関数の定義\n",
    "    def mode(arr):\n",
    "        r = [0]*10\n",
    "        for a in range(0,len(arr)):\n",
    "            r[int(np.asscalar(arr[a]))] += 1\n",
    "        if r.count(max(r))== 1:\n",
    "            return r.index(max(r))\n",
    "        else:\n",
    "            return arr[0].astype(int)\n",
    "    \n",
    "    # 予想操作を定義する\n",
    "    def basic_operation(new_train_X,val_X,new_train_y,k):\n",
    "        predicted_list = []\n",
    "        #result = cos(train_X,val_X)\n",
    "        norm1 = np.sqrt(np.sum(new_train_X**2,axis = 1))\n",
    "        norm2 = np.sqrt(np.sum(val_X**2,axis = 1))\n",
    "        result = ((np.dot(val_X,new_train_X.T)/norm1).T/norm2).T\n",
    "        #i番目のvalidation_exampleをtmpに格納してsort\n",
    "        for i in range(0,len(result)):\n",
    "            tmp = np.append(np.array([result[i]]),np.array([new_train_y.T]),axis = 0).T\n",
    "            tmp = [tmp[i] for i in range(0,len(tmp))]      #sort のために　list化\n",
    "            tmp = np.array(sorted(tmp,key=lambda x:x[0],reverse = True)).T   \n",
    "            predicted_list.append(mode(tmp[1,0:k]))\n",
    "        return predicted_list\n",
    "    #f値,kを初期化\n",
    "    f = 0 #f値\n",
    "    k = 9 #k-nnのk\n",
    "    #f > 0.92まで　k をトレーニング(k1 = 9)\n",
    "    while f < 0.92:\n",
    "        f = 0\n",
    "        k += 2\n",
    "        # cross validation をする。　n-fold caross validation　n = 5 \n",
    "        for  j in range(0,5):\n",
    "            new_train_X = np.array([train_X[i] for i in range(0,len(train_X)) if i%5 == (j+1)%5 ])\n",
    "            val_X = np.array([train_X[i] for i in range(0,len(train_X)) if i%10 == j])\n",
    "            new_train_y = np.array([train_y[i] for i in range(0,len(train_y) ) if i%5 == (j+1)%5])\n",
    "            val_y = np.array([train_y[i] for i in range(0,len(train_y)) if i%10 == j])\n",
    "            #print('Here!')\n",
    "            predicted_list = basic_operation(new_train_X,val_X,new_train_y,k)\n",
    "            f += f1_score(val_y,np.array(predicted_list))\n",
    "        f =f/5.0\n",
    "        print(f)\n",
    "    #不要になった val_y, predicted_list 等を消去\n",
    "    del val_y,predicted_list,train_X,train_y,val_X\n",
    "    gc.collect()\n",
    "    for i in range(0,50):\n",
    "        n = len(test_X)\n",
    "        new_test_X = test_X[int(n*i/50):int((i+1)*n/50)]\n",
    "        #print('Here!')\n",
    "        pred_y[int(n*i/50):int((i+1)*n/50)] = basic_operation(train_X,new_test_X,train_y,k)\n",
    "        #print('Here!!')\n",
    "    return pred_y\n",
    "\n",
    "y = np.array(homework(train_X,train_y,test_X))\n",
    "print(y)\n",
    "print(f1_score(y,test_y),y,np.sum((y == test_y)/len(test_y)))"
   ]
  },
  {
   "cell_type": "code",
   "execution_count": 3,
   "metadata": {
    "collapsed": false
   },
   "outputs": [
    {
     "data": {
      "image/png": "[encoded data removed]",
      "text/plain": [
       "<matplotlib.figure.Figure at 0x1096e8cf8>"
      ]
     },
     "metadata": {},
     "output_type": "display_data"
    }
   ],
   "source": [
    "import matplotlib.pyplot as plt\n",
    "%matplotlib inline\n",
    "fig = plt.figure(figsize=(9, 9))\n",
    "fig.subplots_adjust(left=0, right=1, bottom=0,\n",
    "                    top=0.5, hspace=0.05, wspace=0.05)\n",
    "\n",
    "for i in range(81):\n",
    "    ax = fig.add_subplot(9, 9, i + 1, xticks=[], yticks=[])\n",
    "    ax.imshow(train_X[i].reshape((28, 28)), cmap='gray')"
   ]
  },
  {
   "cell_type": "code",
   "execution_count": null,
   "metadata": {
    "collapsed": true
   },
   "outputs": [],
   "source": []
  }
 ],
 "metadata": {
  "anaconda-cloud": {},
  "kernelspec": {
   "display_name": "Python [Root]",
   "language": "python",
   "name": "Python [Root]"
  },
  "language_info": {
   "codemirror_mode": {
    "name": "ipython",
    "version": 3
   },
   "file_extension": ".py",
   "mimetype": "text/x-python",
   "name": "python",
   "nbconvert_exporter": "python",
   "pygments_lexer": "ipython3",
   "version": "3.5.2"
  }
 },
 "nbformat": 4,
 "nbformat_minor": 0
}
